{
 "cells": [
  {
   "cell_type": "markdown",
   "metadata": {},
   "source": [
    "# Insights - WeRateDogs Twitter Project\n",
    "\n",
    "**What is the most common dogs breed in WeRateDogs posts?**\n",
    "\n",
    "![most_commom_dog_breed](../images/most_commom_dog_breed.png)\n",
    "\n",
    "Golden, Labrador and Pembroke are the most commom dog breed in WeRateDogs posts.\n",
    "\n",
    "**What is the most common dogs stage (When does this information exist)?**\n",
    "\n",
    "![most_commom_dog_breed](../images/most_commom_dog_stage.png)\n",
    "\n",
    "From what it was possible to identify in the text, we see that most of the posts are related to puppos dog.\n",
    "\n",
    "**How are evaluations distribution ?**\n",
    "\n",
    "![most_commom_dog_breed](../images/evaluations_distribuition.png)\n",
    "\n",
    "Most dogs receive grades between 10 and 13\n",
    "\n",
    "**What are the breeds with the highest favorite and retweet ?**\n",
    "\n",
    "![most_commom_dog_breed](../images/dog_breed_favorite.png)\n",
    "\n",
    "![most_commom_dog_breed](../images/dog_breed_retweet.png)\n",
    "\n",
    "The dogs with the highest number of posts are also the most favorite and retweeted."
   ]
  }
 ],
 "metadata": {
  "kernelspec": {
   "display_name": "Python 3",
   "language": "python",
   "name": "python3"
  },
  "language_info": {
   "codemirror_mode": {
    "name": "ipython",
    "version": 3
   },
   "file_extension": ".py",
   "mimetype": "text/x-python",
   "name": "python",
   "nbconvert_exporter": "python",
   "pygments_lexer": "ipython3",
   "version": "3.7.3"
  }
 },
 "nbformat": 4,
 "nbformat_minor": 4
}
