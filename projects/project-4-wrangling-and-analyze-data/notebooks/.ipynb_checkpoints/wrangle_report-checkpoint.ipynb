{
 "cells": [
  {
   "cell_type": "markdown",
   "metadata": {},
   "source": [
    "# Data Wrangling Steps - WeRateDogs Twitter Project\n",
    "\n",
    "For this project, the following data wrangling steps were made:\n",
    "\n",
    "**Gathering data**\n",
    "\n",
    "Programmatically and manually download of files needed for the project.\n",
    "\n",
    "**Assessing data**\n",
    "\n",
    "Programmatically and visual analysis to identify quality and tideness issues on the data.\n",
    "\n",
    "**Clean data**\n",
    "\n",
    "Programmatically and manually cleaning data for issues identified at the assessing data step."
   ]
  }
 ],
 "metadata": {
  "kernelspec": {
   "display_name": "Python 3",
   "language": "python",
   "name": "python3"
  },
  "language_info": {
   "codemirror_mode": {
    "name": "ipython",
    "version": 3
   },
   "file_extension": ".py",
   "mimetype": "text/x-python",
   "name": "python",
   "nbconvert_exporter": "python",
   "pygments_lexer": "ipython3",
   "version": "3.7.3"
  }
 },
 "nbformat": 4,
 "nbformat_minor": 4
}
